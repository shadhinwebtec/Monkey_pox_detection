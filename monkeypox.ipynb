{
 "cells": [
  {
   "cell_type": "code",
   "execution_count": 4,
   "metadata": {},
   "outputs": [],
   "source": [
    "# Import Libraries \n",
    "import os \n",
    "import copy,glob\n",
    "import pandas as pd \n",
    "import numpy as np \n",
    "import warnings\n",
    "import tensorflow as tf \n",
    "import keras \n",
    "\n",
    "\n",
    "import matplotlib.pyplot as plt \n",
    "import seaborn as sns\n",
    "\n",
    "from keras.preprocessing.image import ImageDataGenerator\n",
    "from tensorflow.keras.utils import img_to_array, load_img\n",
    "import cv2\n",
    "\n",
    "from tensorflow.keras.models import Model, load_model,Sequential\n",
    "from keras.layers import Flatten,Dense\n",
    "from keras.layers import Dense,GlobalAveragePooling2D,Dropout,BatchNormalization,MaxPooling2D,GlobalMaxPooling2D\n",
    "from keras.utils import np_utils\n",
    "from keras .callbacks import ModelCheckpoint,EarlyStopping,ReduceLROnPlateau\n",
    "from keras import regularizers\n",
    "from tensorflow.keras.optimizers import Adam,Adamax\n",
    "\n",
    "from tensorflow.keras.applications import ResNet50V2, Xception\n",
    "from keras.applications.mobilenet_v2 import MobileNetV2\n",
    "\n",
    "from sklearn.metrics import accuracy_score, confusion_matrix, roc_auc_score, roc_curve, f1_score\n",
    "from sklearn.metrics import classification_report, confusion_matrix, ConfusionMatrixDisplay\n",
    "from sklearn.model_selection import train_test_split\n",
    "import sklearn.metrics as metrics\n",
    "from sklearn.utils import shuffle"
   ]
  },
  {
   "cell_type": "markdown",
   "metadata": {},
   "source": [
    "# Loading Images"
   ]
  },
  {
   "cell_type": "code",
   "execution_count": 6,
   "metadata": {},
   "outputs": [
    {
     "name": "stdout",
     "output_type": "stream",
     "text": [
      "Found 2142 images belonging to 2 classes.\n",
      "Found 420 images belonging to 2 classes.\n"
     ]
    }
   ],
   "source": [
    "train_gen=ImageDataGenerator(rescale=1/255)\n",
    "valid_gen=ImageDataGenerator(rescale=1/255,validation_split=0.4)\n",
    "\n",
    "train_data=train_gen.flow_from_directory(\"C:/Users/ismai/OneDrive/Documents/GitHub/Monkey_pox_detection/Data/Fold1/Fold1/Fold1/Train\",target_size=(224,224),\n",
    "                                         shuffle=True,class_mode='binary',batch_size=64)\n",
    "valid_data=valid_gen.flow_from_directory(\"C:/Users/ismai/OneDrive/Documents/GitHub/Monkey_pox_detection/Data/Fold1/Fold1/Fold1/Val\",target_size=(224,224),\n",
    "                                         shuffle=True,class_mode='binary')"
   ]
  },
  {
   "cell_type": "code",
   "execution_count": null,
   "metadata": {},
   "outputs": [],
   "source": []
  }
 ],
 "metadata": {
  "kernelspec": {
   "display_name": "env_python3.9",
   "language": "python",
   "name": "python3"
  },
  "language_info": {
   "codemirror_mode": {
    "name": "ipython",
    "version": 3
   },
   "file_extension": ".py",
   "mimetype": "text/x-python",
   "name": "python",
   "nbconvert_exporter": "python",
   "pygments_lexer": "ipython3",
   "version": "3.9.19"
  }
 },
 "nbformat": 4,
 "nbformat_minor": 2
}
