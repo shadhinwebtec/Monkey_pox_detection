{
 "cells": [
  {
   "cell_type": "code",
   "execution_count": 1,
   "id": "85862dc8",
   "metadata": {
    "execution": {
     "iopub.execute_input": "2024-09-04T18:31:30.199293Z",
     "iopub.status.busy": "2024-09-04T18:31:30.198553Z",
     "iopub.status.idle": "2024-09-04T18:34:11.110763Z",
     "shell.execute_reply": "2024-09-04T18:34:11.109518Z"
    },
    "papermill": {
     "duration": 160.921408,
     "end_time": "2024-09-04T18:34:11.113245",
     "exception": false,
     "start_time": "2024-09-04T18:31:30.191837",
     "status": "completed"
    },
    "tags": []
   },
   "outputs": [
    {
     "name": "stdout",
     "output_type": "stream",
     "text": [
      "Collecting tensorflow==2.15.0\r\n",
      "  Downloading tensorflow-2.15.0-cp310-cp310-manylinux_2_17_x86_64.manylinux2014_x86_64.whl.metadata (4.4 kB)\r\n",
      "Collecting keras==2.15.0\r\n",
      "  Downloading keras-2.15.0-py3-none-any.whl.metadata (2.4 kB)\r\n",
      "Requirement already satisfied: absl-py>=1.0.0 in /opt/conda/lib/python3.10/site-packages (from tensorflow==2.15.0) (1.4.0)\r\n",
      "Requirement already satisfied: astunparse>=1.6.0 in /opt/conda/lib/python3.10/site-packages (from tensorflow==2.15.0) (1.6.3)\r\n",
      "Requirement already satisfied: flatbuffers>=23.5.26 in /opt/conda/lib/python3.10/site-packages (from tensorflow==2.15.0) (24.3.25)\r\n",
      "Requirement already satisfied: gast!=0.5.0,!=0.5.1,!=0.5.2,>=0.2.1 in /opt/conda/lib/python3.10/site-packages (from tensorflow==2.15.0) (0.5.4)\r\n",
      "Requirement already satisfied: google-pasta>=0.1.1 in /opt/conda/lib/python3.10/site-packages (from tensorflow==2.15.0) (0.2.0)\r\n",
      "Requirement already satisfied: h5py>=2.9.0 in /opt/conda/lib/python3.10/site-packages (from tensorflow==2.15.0) (3.11.0)\r\n",
      "Requirement already satisfied: libclang>=13.0.0 in /opt/conda/lib/python3.10/site-packages (from tensorflow==2.15.0) (18.1.1)\r\n",
      "Collecting ml-dtypes~=0.2.0 (from tensorflow==2.15.0)\r\n",
      "  Downloading ml_dtypes-0.2.0-cp310-cp310-manylinux_2_17_x86_64.manylinux2014_x86_64.whl.metadata (20 kB)\r\n",
      "Requirement already satisfied: numpy<2.0.0,>=1.23.5 in /opt/conda/lib/python3.10/site-packages (from tensorflow==2.15.0) (1.26.4)\r\n",
      "Requirement already satisfied: opt-einsum>=2.3.2 in /opt/conda/lib/python3.10/site-packages (from tensorflow==2.15.0) (3.3.0)\r\n",
      "Requirement already satisfied: packaging in /opt/conda/lib/python3.10/site-packages (from tensorflow==2.15.0) (21.3)\r\n",
      "Requirement already satisfied: protobuf!=4.21.0,!=4.21.1,!=4.21.2,!=4.21.3,!=4.21.4,!=4.21.5,<5.0.0dev,>=3.20.3 in /opt/conda/lib/python3.10/site-packages (from tensorflow==2.15.0) (3.20.3)\r\n",
      "Requirement already satisfied: setuptools in /opt/conda/lib/python3.10/site-packages (from tensorflow==2.15.0) (70.0.0)\r\n",
      "Requirement already satisfied: six>=1.12.0 in /opt/conda/lib/python3.10/site-packages (from tensorflow==2.15.0) (1.16.0)\r\n",
      "Requirement already satisfied: termcolor>=1.1.0 in /opt/conda/lib/python3.10/site-packages (from tensorflow==2.15.0) (2.4.0)\r\n",
      "Requirement already satisfied: typing-extensions>=3.6.6 in /opt/conda/lib/python3.10/site-packages (from tensorflow==2.15.0) (4.12.2)\r\n",
      "Collecting wrapt<1.15,>=1.11.0 (from tensorflow==2.15.0)\r\n",
      "  Downloading wrapt-1.14.1-cp310-cp310-manylinux_2_5_x86_64.manylinux1_x86_64.manylinux_2_17_x86_64.manylinux2014_x86_64.whl.metadata (6.7 kB)\r\n",
      "Requirement already satisfied: tensorflow-io-gcs-filesystem>=0.23.1 in /opt/conda/lib/python3.10/site-packages (from tensorflow==2.15.0) (0.37.0)\r\n",
      "Requirement already satisfied: grpcio<2.0,>=1.24.3 in /opt/conda/lib/python3.10/site-packages (from tensorflow==2.15.0) (1.62.2)\r\n",
      "Collecting tensorboard<2.16,>=2.15 (from tensorflow==2.15.0)\r\n",
      "  Downloading tensorboard-2.15.2-py3-none-any.whl.metadata (1.7 kB)\r\n",
      "Requirement already satisfied: tensorflow-estimator<2.16,>=2.15.0 in /opt/conda/lib/python3.10/site-packages (from tensorflow==2.15.0) (2.15.0)\r\n",
      "Requirement already satisfied: wheel<1.0,>=0.23.0 in /opt/conda/lib/python3.10/site-packages (from astunparse>=1.6.0->tensorflow==2.15.0) (0.43.0)\r\n",
      "Requirement already satisfied: google-auth<3,>=1.6.3 in /opt/conda/lib/python3.10/site-packages (from tensorboard<2.16,>=2.15->tensorflow==2.15.0) (2.30.0)\r\n",
      "Requirement already satisfied: google-auth-oauthlib<2,>=0.5 in /opt/conda/lib/python3.10/site-packages (from tensorboard<2.16,>=2.15->tensorflow==2.15.0) (1.2.0)\r\n",
      "Requirement already satisfied: markdown>=2.6.8 in /opt/conda/lib/python3.10/site-packages (from tensorboard<2.16,>=2.15->tensorflow==2.15.0) (3.6)\r\n",
      "Requirement already satisfied: requests<3,>=2.21.0 in /opt/conda/lib/python3.10/site-packages (from tensorboard<2.16,>=2.15->tensorflow==2.15.0) (2.32.3)\r\n",
      "Requirement already satisfied: tensorboard-data-server<0.8.0,>=0.7.0 in /opt/conda/lib/python3.10/site-packages (from tensorboard<2.16,>=2.15->tensorflow==2.15.0) (0.7.2)\r\n",
      "Requirement already satisfied: werkzeug>=1.0.1 in /opt/conda/lib/python3.10/site-packages (from tensorboard<2.16,>=2.15->tensorflow==2.15.0) (3.0.3)\r\n",
      "Requirement already satisfied: pyparsing!=3.0.5,>=2.0.2 in /opt/conda/lib/python3.10/site-packages (from packaging->tensorflow==2.15.0) (3.1.2)\r\n",
      "Requirement already satisfied: cachetools<6.0,>=2.0.0 in /opt/conda/lib/python3.10/site-packages (from google-auth<3,>=1.6.3->tensorboard<2.16,>=2.15->tensorflow==2.15.0) (4.2.4)\r\n",
      "Requirement already satisfied: pyasn1-modules>=0.2.1 in /opt/conda/lib/python3.10/site-packages (from google-auth<3,>=1.6.3->tensorboard<2.16,>=2.15->tensorflow==2.15.0) (0.4.0)\r\n",
      "Requirement already satisfied: rsa<5,>=3.1.4 in /opt/conda/lib/python3.10/site-packages (from google-auth<3,>=1.6.3->tensorboard<2.16,>=2.15->tensorflow==2.15.0) (4.9)\r\n",
      "Requirement already satisfied: requests-oauthlib>=0.7.0 in /opt/conda/lib/python3.10/site-packages (from google-auth-oauthlib<2,>=0.5->tensorboard<2.16,>=2.15->tensorflow==2.15.0) (2.0.0)\r\n",
      "Requirement already satisfied: charset-normalizer<4,>=2 in /opt/conda/lib/python3.10/site-packages (from requests<3,>=2.21.0->tensorboard<2.16,>=2.15->tensorflow==2.15.0) (3.3.2)\r\n",
      "Requirement already satisfied: idna<4,>=2.5 in /opt/conda/lib/python3.10/site-packages (from requests<3,>=2.21.0->tensorboard<2.16,>=2.15->tensorflow==2.15.0) (3.7)\r\n",
      "Requirement already satisfied: urllib3<3,>=1.21.1 in /opt/conda/lib/python3.10/site-packages (from requests<3,>=2.21.0->tensorboard<2.16,>=2.15->tensorflow==2.15.0) (1.26.18)\r\n",
      "Requirement already satisfied: certifi>=2017.4.17 in /opt/conda/lib/python3.10/site-packages (from requests<3,>=2.21.0->tensorboard<2.16,>=2.15->tensorflow==2.15.0) (2024.7.4)\r\n",
      "Requirement already satisfied: MarkupSafe>=2.1.1 in /opt/conda/lib/python3.10/site-packages (from werkzeug>=1.0.1->tensorboard<2.16,>=2.15->tensorflow==2.15.0) (2.1.5)\r\n",
      "Requirement already satisfied: pyasn1<0.7.0,>=0.4.6 in /opt/conda/lib/python3.10/site-packages (from pyasn1-modules>=0.2.1->google-auth<3,>=1.6.3->tensorboard<2.16,>=2.15->tensorflow==2.15.0) (0.6.0)\r\n",
      "Requirement already satisfied: oauthlib>=3.0.0 in /opt/conda/lib/python3.10/site-packages (from requests-oauthlib>=0.7.0->google-auth-oauthlib<2,>=0.5->tensorboard<2.16,>=2.15->tensorflow==2.15.0) (3.2.2)\r\n",
      "Downloading tensorflow-2.15.0-cp310-cp310-manylinux_2_17_x86_64.manylinux2014_x86_64.whl (475.2 MB)\r\n",
      "\u001b[2K   \u001b[90m━━━━━━━━━━━━━━━━━━━━━━━━━━━━━━━━━━━━━━━━\u001b[0m \u001b[32m475.2/475.2 MB\u001b[0m \u001b[31m1.7 MB/s\u001b[0m eta \u001b[36m0:00:00\u001b[0m\r\n",
      "\u001b[?25hDownloading keras-2.15.0-py3-none-any.whl (1.7 MB)\r\n",
      "\u001b[2K   \u001b[90m━━━━━━━━━━━━━━━━━━━━━━━━━━━━━━━━━━━━━━━━\u001b[0m \u001b[32m1.7/1.7 MB\u001b[0m \u001b[31m2.8 MB/s\u001b[0m eta \u001b[36m0:00:00\u001b[0m\r\n",
      "\u001b[?25hDownloading ml_dtypes-0.2.0-cp310-cp310-manylinux_2_17_x86_64.manylinux2014_x86_64.whl (1.0 MB)\r\n",
      "\u001b[2K   \u001b[90m━━━━━━━━━━━━━━━━━━━━━━━━━━━━━━━━━━━━━━━━\u001b[0m \u001b[32m1.0/1.0 MB\u001b[0m \u001b[31m2.5 MB/s\u001b[0m eta \u001b[36m0:00:00\u001b[0m\r\n",
      "\u001b[?25hDownloading tensorboard-2.15.2-py3-none-any.whl (5.5 MB)\r\n",
      "\u001b[2K   \u001b[90m━━━━━━━━━━━━━━━━━━━━━━━━━━━━━━━━━━━━━━━━\u001b[0m \u001b[32m5.5/5.5 MB\u001b[0m \u001b[31m2.7 MB/s\u001b[0m eta \u001b[36m0:00:00\u001b[0m\r\n",
      "\u001b[?25hDownloading wrapt-1.14.1-cp310-cp310-manylinux_2_5_x86_64.manylinux1_x86_64.manylinux_2_17_x86_64.manylinux2014_x86_64.whl (77 kB)\r\n",
      "\u001b[2K   \u001b[90m━━━━━━━━━━━━━━━━━━━━━━━━━━━━━━━━━━━━━━━━\u001b[0m \u001b[32m77.9/77.9 kB\u001b[0m \u001b[31m2.3 MB/s\u001b[0m eta \u001b[36m0:00:00\u001b[0m\r\n",
      "\u001b[?25hInstalling collected packages: wrapt, ml-dtypes, keras, tensorboard, tensorflow\r\n",
      "  Attempting uninstall: wrapt\r\n",
      "    Found existing installation: wrapt 1.16.0\r\n",
      "    Uninstalling wrapt-1.16.0:\r\n",
      "      Successfully uninstalled wrapt-1.16.0\r\n",
      "  Attempting uninstall: ml-dtypes\r\n",
      "    Found existing installation: ml-dtypes 0.3.2\r\n",
      "    Uninstalling ml-dtypes-0.3.2:\r\n",
      "      Successfully uninstalled ml-dtypes-0.3.2\r\n",
      "  Attempting uninstall: keras\r\n",
      "    Found existing installation: keras 3.3.3\r\n",
      "    Uninstalling keras-3.3.3:\r\n",
      "      Successfully uninstalled keras-3.3.3\r\n",
      "  Attempting uninstall: tensorboard\r\n",
      "    Found existing installation: tensorboard 2.16.2\r\n",
      "    Uninstalling tensorboard-2.16.2:\r\n",
      "      Successfully uninstalled tensorboard-2.16.2\r\n",
      "  Attempting uninstall: tensorflow\r\n",
      "    Found existing installation: tensorflow 2.16.1\r\n",
      "    Uninstalling tensorflow-2.16.1:\r\n",
      "      Successfully uninstalled tensorflow-2.16.1\r\n",
      "\u001b[31mERROR: pip's dependency resolver does not currently take into account all the packages that are installed. This behaviour is the source of the following dependency conflicts.\r\n",
      "tensorflow-decision-forests 1.9.1 requires tensorflow~=2.16.1, but you have tensorflow 2.15.0 which is incompatible.\r\n",
      "tensorflow-serving-api 2.16.1 requires tensorflow<3,>=2.16.1, but you have tensorflow 2.15.0 which is incompatible.\r\n",
      "tensorflow-text 2.16.1 requires tensorflow<2.17,>=2.16.1; platform_machine != \"arm64\" or platform_system != \"Darwin\", but you have tensorflow 2.15.0 which is incompatible.\r\n",
      "tensorstore 0.1.64 requires ml-dtypes>=0.3.1, but you have ml-dtypes 0.2.0 which is incompatible.\r\n",
      "tf-keras 2.16.0 requires tensorflow<2.17,>=2.16, but you have tensorflow 2.15.0 which is incompatible.\u001b[0m\u001b[31m\r\n",
      "\u001b[0mSuccessfully installed keras-2.15.0 ml-dtypes-0.2.0 tensorboard-2.15.2 tensorflow-2.15.0 wrapt-1.14.1\r\n",
      "Note: you may need to restart the kernel to use updated packages.\n"
     ]
    }
   ],
   "source": [
    "pip install tensorflow==2.15.0 keras==2.15.0"
   ]
  },
  {
   "cell_type": "code",
   "execution_count": 2,
   "id": "95ab050d",
   "metadata": {
    "execution": {
     "iopub.execute_input": "2024-09-04T18:34:11.466816Z",
     "iopub.status.busy": "2024-09-04T18:34:11.466437Z",
     "iopub.status.idle": "2024-09-04T18:34:20.471189Z",
     "shell.execute_reply": "2024-09-04T18:34:20.470331Z"
    },
    "papermill": {
     "duration": 9.174702,
     "end_time": "2024-09-04T18:34:20.473451",
     "exception": false,
     "start_time": "2024-09-04T18:34:11.298749",
     "status": "completed"
    },
    "tags": []
   },
   "outputs": [
    {
     "name": "stderr",
     "output_type": "stream",
     "text": [
      "2024-09-04 18:34:12.902021: E external/local_xla/xla/stream_executor/cuda/cuda_dnn.cc:9261] Unable to register cuDNN factory: Attempting to register factory for plugin cuDNN when one has already been registered\n",
      "2024-09-04 18:34:12.902078: E external/local_xla/xla/stream_executor/cuda/cuda_fft.cc:607] Unable to register cuFFT factory: Attempting to register factory for plugin cuFFT when one has already been registered\n",
      "2024-09-04 18:34:12.904121: E external/local_xla/xla/stream_executor/cuda/cuda_blas.cc:1515] Unable to register cuBLAS factory: Attempting to register factory for plugin cuBLAS when one has already been registered\n"
     ]
    }
   ],
   "source": [
    "# Import Libraries \n",
    "import os \n",
    "import copy,glob\n",
    "import pandas as pd \n",
    "import numpy as np \n",
    "import warnings\n",
    "import tensorflow as tf \n",
    "import keras \n",
    "\n",
    "\n",
    "import matplotlib.pyplot as plt \n",
    "import seaborn as sns\n",
    "\n",
    "\n",
    "from tensorflow.keras.preprocessing.image import ImageDataGenerator\n",
    "from tensorflow.keras.utils import img_to_array, load_img\n",
    "import cv2\n",
    "\n",
    "from tensorflow.keras.models import Model, load_model,Sequential\n",
    "from keras.layers import Flatten,Dense\n",
    "from keras.layers import Dense,GlobalAveragePooling2D,Dropout,BatchNormalization,MaxPooling2D,GlobalMaxPooling2D\n",
    "# from keras.utils import np_utils\n",
    "from keras .callbacks import ModelCheckpoint,EarlyStopping,ReduceLROnPlateau\n",
    "from keras import regularizers\n",
    "from tensorflow.keras.optimizers import Adam,Adamax\n",
    "\n",
    "from tensorflow.keras.applications import ResNet50V2, Xception\n",
    "from keras.applications.mobilenet_v2 import MobileNetV2\n",
    "\n",
    "from sklearn.metrics import accuracy_score, confusion_matrix, roc_auc_score, roc_curve, f1_score\n",
    "from sklearn.metrics import classification_report, confusion_matrix, ConfusionMatrixDisplay\n",
    "from sklearn.model_selection import train_test_split\n",
    "import sklearn.metrics as metrics\n",
    "from sklearn.utils import shuffle"
   ]
  },
  {
   "cell_type": "markdown",
   "id": "c4a991db",
   "metadata": {
    "papermill": {
     "duration": 0.165392,
     "end_time": "2024-09-04T18:34:20.843350",
     "exception": false,
     "start_time": "2024-09-04T18:34:20.677958",
     "status": "completed"
    },
    "tags": []
   },
   "source": [
    "# Loading Images"
   ]
  },
  {
   "cell_type": "code",
   "execution_count": 3,
   "id": "5b87e10e",
   "metadata": {
    "execution": {
     "iopub.execute_input": "2024-09-04T18:34:21.180119Z",
     "iopub.status.busy": "2024-09-04T18:34:21.179482Z",
     "iopub.status.idle": "2024-09-04T18:34:22.639316Z",
     "shell.execute_reply": "2024-09-04T18:34:22.638483Z"
    },
    "papermill": {
     "duration": 1.633428,
     "end_time": "2024-09-04T18:34:22.641314",
     "exception": false,
     "start_time": "2024-09-04T18:34:21.007886",
     "status": "completed"
    },
    "tags": []
   },
   "outputs": [
    {
     "name": "stdout",
     "output_type": "stream",
     "text": [
      "Found 2142 images belonging to 2 classes.\n",
      "Found 420 images belonging to 2 classes.\n"
     ]
    }
   ],
   "source": [
    "train_gen=ImageDataGenerator(rescale=1./255)\n",
    "valid_gen=ImageDataGenerator(rescale=1./255,validation_split=0.4)\n",
    "\n",
    "train_data=train_gen.flow_from_directory(\"/kaggle/input/monkeypox-skin-lesion-dataset/Fold1/Fold1/Fold1/Train\",target_size=(224,224),\n",
    "                                         shuffle=True,class_mode='binary',batch_size=64)\n",
    "valid_data=valid_gen.flow_from_directory(\"/kaggle/input/monkeypox-skin-lesion-dataset/Fold1/Fold1/Fold1/Val\",target_size=(224,224),\n",
    "                                         shuffle=True,class_mode='binary')"
   ]
  },
  {
   "cell_type": "markdown",
   "id": "86a6f89c",
   "metadata": {
    "papermill": {
     "duration": 0.163885,
     "end_time": "2024-09-04T18:34:22.980111",
     "exception": false,
     "start_time": "2024-09-04T18:34:22.816226",
     "status": "completed"
    },
    "tags": []
   },
   "source": [
    "# MobileNet"
   ]
  },
  {
   "cell_type": "code",
   "execution_count": 4,
   "id": "42add017",
   "metadata": {
    "execution": {
     "iopub.execute_input": "2024-09-04T18:34:23.309560Z",
     "iopub.status.busy": "2024-09-04T18:34:23.309163Z",
     "iopub.status.idle": "2024-09-04T18:34:23.314047Z",
     "shell.execute_reply": "2024-09-04T18:34:23.313156Z"
    },
    "papermill": {
     "duration": 0.169823,
     "end_time": "2024-09-04T18:34:23.316556",
     "exception": false,
     "start_time": "2024-09-04T18:34:23.146733",
     "status": "completed"
    },
    "tags": []
   },
   "outputs": [
    {
     "name": "stdout",
     "output_type": "stream",
     "text": [
      "2.15.0\n",
      "2.15.0\n"
     ]
    }
   ],
   "source": [
    "import keras \n",
    "print(keras.__version__)\n",
    "\n",
    "import tensorflow\n",
    "print(tensorflow.__version__)"
   ]
  },
  {
   "cell_type": "markdown",
   "id": "5125741f",
   "metadata": {
    "papermill": {
     "duration": 0.161848,
     "end_time": "2024-09-04T18:34:23.639569",
     "exception": false,
     "start_time": "2024-09-04T18:34:23.477721",
     "status": "completed"
    },
    "tags": []
   },
   "source": [
    "# callback "
   ]
  },
  {
   "cell_type": "code",
   "execution_count": 5,
   "id": "0c524941",
   "metadata": {
    "execution": {
     "iopub.execute_input": "2024-09-04T18:34:24.006799Z",
     "iopub.status.busy": "2024-09-04T18:34:24.005839Z",
     "iopub.status.idle": "2024-09-04T18:34:24.013319Z",
     "shell.execute_reply": "2024-09-04T18:34:24.012530Z"
    },
    "papermill": {
     "duration": 0.191531,
     "end_time": "2024-09-04T18:34:24.015331",
     "exception": false,
     "start_time": "2024-09-04T18:34:23.823800",
     "status": "completed"
    },
    "tags": []
   },
   "outputs": [],
   "source": [
    "checkpoint_filepath = '{epoch:02d}.h5'\n",
    "checkpoint_dir = os.path.dirname(checkpoint_filepath)\n",
    "\n",
    "model_checkpoint_callback =keras.callbacks.ModelCheckpoint(\n",
    "    filepath=checkpoint_filepath,\n",
    "    save_weights_only=True,\n",
    "    monitor='val_accuracy',\n",
    "    mode='max',\n",
    "    verbose=1,\n",
    "    save_best_only=True)\n",
    "\n",
    "earlystop = EarlyStopping(monitor = 'val_accuracy', \n",
    "                          min_delta = 0, \n",
    "                          patience = 15,\n",
    "                          verbose = 1,\n",
    "                          mode='auto')\n",
    "\n",
    "reduce_lr = ReduceLROnPlateau(monitor = 'val_accuracy',\n",
    "                              factor = 0.2,\n",
    "                              patience = 4,\n",
    "                              verbose = 1,\n",
    "                              min_delta = 0.0001)\n",
    "\n",
    "cb = [earlystop, reduce_lr, model_checkpoint_callback]"
   ]
  },
  {
   "cell_type": "code",
   "execution_count": 6,
   "id": "2e7420bf",
   "metadata": {
    "execution": {
     "iopub.execute_input": "2024-09-04T18:34:24.345448Z",
     "iopub.status.busy": "2024-09-04T18:34:24.345062Z",
     "iopub.status.idle": "2024-09-04T18:34:27.453051Z",
     "shell.execute_reply": "2024-09-04T18:34:27.452152Z"
    },
    "papermill": {
     "duration": 3.277456,
     "end_time": "2024-09-04T18:34:27.454964",
     "exception": false,
     "start_time": "2024-09-04T18:34:24.177508",
     "status": "completed"
    },
    "tags": []
   },
   "outputs": [
    {
     "name": "stdout",
     "output_type": "stream",
     "text": [
      "Downloading data from https://storage.googleapis.com/tensorflow/keras-applications/mobilenet_v2/mobilenet_v2_weights_tf_dim_ordering_tf_kernels_1.0_224_no_top.h5\n",
      "9406464/9406464 [==============================] - 0s 0us/step\n",
      "Model: \"sequential\"\n",
      "_________________________________________________________________\n",
      " Layer (type)                Output Shape              Param #   \n",
      "=================================================================\n",
      " mobilenetv2_1.00_224 (Func  (None, 1280)              2257984   \n",
      " tional)                                                         \n",
      "                                                                 \n",
      " dense (Dense)               (None, 256)               327936    \n",
      "                                                                 \n",
      " dropout (Dropout)           (None, 256)               0         \n",
      "                                                                 \n",
      " dense_1 (Dense)             (None, 256)               65792     \n",
      "                                                                 \n",
      " dropout_1 (Dropout)         (None, 256)               0         \n",
      "                                                                 \n",
      " dense_2 (Dense)             (None, 1)                 257       \n",
      "                                                                 \n",
      "=================================================================\n",
      "Total params: 2651969 (10.12 MB)\n",
      "Trainable params: 393985 (1.50 MB)\n",
      "Non-trainable params: 2257984 (8.61 MB)\n",
      "_________________________________________________________________\n"
     ]
    }
   ],
   "source": [
    "base_model_mobilenet = MobileNetV2(\n",
    "    input_shape=(224, 224, 3),\n",
    "    include_top=False,\n",
    "    weights='imagenet',\n",
    "    pooling='avg'\n",
    ")\n",
    "\n",
    "base_model_mobilenet.trainable = False\n",
    "\n",
    "model_mobilenet = Sequential([\n",
    "      base_model_mobilenet,\n",
    "      #GlobalAveragePooling2D(),\n",
    "      Dense(256,activation='relu'),\n",
    "      Dropout(0.2),\n",
    "      Dense(256,activation='relu'),\n",
    "      Dropout(0.2),\n",
    "      Dense(1,activation='sigmoid')])\n",
    "\n",
    "model_mobilenet.summary()"
   ]
  },
  {
   "cell_type": "code",
   "execution_count": 7,
   "id": "a82e3904",
   "metadata": {
    "execution": {
     "iopub.execute_input": "2024-09-04T18:34:27.791127Z",
     "iopub.status.busy": "2024-09-04T18:34:27.790335Z",
     "iopub.status.idle": "2024-09-04T18:34:27.812711Z",
     "shell.execute_reply": "2024-09-04T18:34:27.811931Z"
    },
    "papermill": {
     "duration": 0.192686,
     "end_time": "2024-09-04T18:34:27.814711",
     "exception": false,
     "start_time": "2024-09-04T18:34:27.622025",
     "status": "completed"
    },
    "tags": []
   },
   "outputs": [],
   "source": [
    "model_mobilenet.compile(Adam(learning_rate=.001), loss='binary_crossentropy', metrics=['accuracy'])"
   ]
  },
  {
   "cell_type": "code",
   "execution_count": 8,
   "id": "ae2a5855",
   "metadata": {
    "execution": {
     "iopub.execute_input": "2024-09-04T18:34:28.163989Z",
     "iopub.status.busy": "2024-09-04T18:34:28.163625Z",
     "iopub.status.idle": "2024-09-04T18:37:51.196382Z",
     "shell.execute_reply": "2024-09-04T18:37:51.195294Z"
    },
    "papermill": {
     "duration": 203.215207,
     "end_time": "2024-09-04T18:37:51.199051",
     "exception": false,
     "start_time": "2024-09-04T18:34:27.983844",
     "status": "completed"
    },
    "tags": []
   },
   "outputs": [
    {
     "name": "stdout",
     "output_type": "stream",
     "text": [
      "Epoch 1/40\n"
     ]
    },
    {
     "name": "stderr",
     "output_type": "stream",
     "text": [
      "WARNING: All log messages before absl::InitializeLog() is called are written to STDERR\n",
      "I0000 00:00:1725474876.106197      95 device_compiler.h:186] Compiled cluster using XLA!  This line is logged at most once for the lifetime of the process.\n"
     ]
    },
    {
     "name": "stdout",
     "output_type": "stream",
     "text": [
      "34/34 [==============================] - ETA: 0s - loss: 0.5141 - accuracy: 0.7381\n",
      "Epoch 1: val_accuracy improved from -inf to 0.63810, saving model to 01.h5\n",
      "34/34 [==============================] - 35s 815ms/step - loss: 0.5141 - accuracy: 0.7381 - val_loss: 0.6685 - val_accuracy: 0.6381 - lr: 0.0010\n",
      "Epoch 2/40\n",
      "34/34 [==============================] - ETA: 0s - loss: 0.2794 - accuracy: 0.8814\n",
      "Epoch 2: val_accuracy improved from 0.63810 to 0.66190, saving model to 02.h5\n",
      "34/34 [==============================] - 8s 241ms/step - loss: 0.2794 - accuracy: 0.8814 - val_loss: 0.6797 - val_accuracy: 0.6619 - lr: 0.0010\n",
      "Epoch 3/40\n",
      "34/34 [==============================] - ETA: 0s - loss: 0.1859 - accuracy: 0.9183\n",
      "Epoch 3: val_accuracy improved from 0.66190 to 0.70714, saving model to 03.h5\n",
      "34/34 [==============================] - 8s 241ms/step - loss: 0.1859 - accuracy: 0.9183 - val_loss: 0.6509 - val_accuracy: 0.7071 - lr: 0.0010\n",
      "Epoch 4/40\n",
      "34/34 [==============================] - ETA: 0s - loss: 0.1702 - accuracy: 0.9239\n",
      "Epoch 4: val_accuracy did not improve from 0.70714\n",
      "34/34 [==============================] - 7s 218ms/step - loss: 0.1702 - accuracy: 0.9239 - val_loss: 0.7113 - val_accuracy: 0.6952 - lr: 0.0010\n",
      "Epoch 5/40\n",
      "34/34 [==============================] - ETA: 0s - loss: 0.1180 - accuracy: 0.9482\n",
      "Epoch 5: val_accuracy did not improve from 0.70714\n",
      "34/34 [==============================] - 7s 215ms/step - loss: 0.1180 - accuracy: 0.9482 - val_loss: 0.9158 - val_accuracy: 0.6690 - lr: 0.0010\n",
      "Epoch 6/40\n",
      "34/34 [==============================] - ETA: 0s - loss: 0.1126 - accuracy: 0.9510\n",
      "Epoch 6: val_accuracy did not improve from 0.70714\n",
      "34/34 [==============================] - 7s 214ms/step - loss: 0.1126 - accuracy: 0.9510 - val_loss: 0.7790 - val_accuracy: 0.7071 - lr: 0.0010\n",
      "Epoch 7/40\n",
      "34/34 [==============================] - ETA: 0s - loss: 0.0859 - accuracy: 0.9678\n",
      "Epoch 7: ReduceLROnPlateau reducing learning rate to 0.00020000000949949026.\n",
      "\n",
      "Epoch 7: val_accuracy did not improve from 0.70714\n",
      "34/34 [==============================] - 8s 221ms/step - loss: 0.0859 - accuracy: 0.9678 - val_loss: 0.8090 - val_accuracy: 0.6905 - lr: 0.0010\n",
      "Epoch 8/40\n",
      "34/34 [==============================] - ETA: 0s - loss: 0.0626 - accuracy: 0.9762\n",
      "Epoch 8: val_accuracy did not improve from 0.70714\n",
      "34/34 [==============================] - 7s 205ms/step - loss: 0.0626 - accuracy: 0.9762 - val_loss: 0.8441 - val_accuracy: 0.7024 - lr: 2.0000e-04\n",
      "Epoch 9/40\n",
      "34/34 [==============================] - ETA: 0s - loss: 0.0545 - accuracy: 0.9818\n",
      "Epoch 9: val_accuracy improved from 0.70714 to 0.71190, saving model to 09.h5\n",
      "34/34 [==============================] - 7s 210ms/step - loss: 0.0545 - accuracy: 0.9818 - val_loss: 0.8960 - val_accuracy: 0.7119 - lr: 2.0000e-04\n",
      "Epoch 10/40\n",
      "34/34 [==============================] - ETA: 0s - loss: 0.0466 - accuracy: 0.9827\n",
      "Epoch 10: val_accuracy improved from 0.71190 to 0.71667, saving model to 10.h5\n",
      "34/34 [==============================] - 7s 218ms/step - loss: 0.0466 - accuracy: 0.9827 - val_loss: 0.9414 - val_accuracy: 0.7167 - lr: 2.0000e-04\n",
      "Epoch 11/40\n",
      "34/34 [==============================] - ETA: 0s - loss: 0.0434 - accuracy: 0.9865\n",
      "Epoch 11: val_accuracy did not improve from 0.71667\n",
      "34/34 [==============================] - 7s 210ms/step - loss: 0.0434 - accuracy: 0.9865 - val_loss: 0.9686 - val_accuracy: 0.7095 - lr: 2.0000e-04\n",
      "Epoch 12/40\n",
      "34/34 [==============================] - ETA: 0s - loss: 0.0428 - accuracy: 0.9837\n",
      "Epoch 12: val_accuracy did not improve from 0.71667\n",
      "34/34 [==============================] - 7s 212ms/step - loss: 0.0428 - accuracy: 0.9837 - val_loss: 1.0499 - val_accuracy: 0.7048 - lr: 2.0000e-04\n",
      "Epoch 13/40\n",
      "34/34 [==============================] - ETA: 0s - loss: 0.0373 - accuracy: 0.9869\n",
      "Epoch 13: val_accuracy did not improve from 0.71667\n",
      "34/34 [==============================] - 6s 184ms/step - loss: 0.0373 - accuracy: 0.9869 - val_loss: 1.1406 - val_accuracy: 0.6881 - lr: 2.0000e-04\n",
      "Epoch 14/40\n",
      "34/34 [==============================] - ETA: 0s - loss: 0.0356 - accuracy: 0.9883\n",
      "Epoch 14: ReduceLROnPlateau reducing learning rate to 4.0000001899898055e-05.\n",
      "\n",
      "Epoch 14: val_accuracy did not improve from 0.71667\n",
      "34/34 [==============================] - 7s 190ms/step - loss: 0.0356 - accuracy: 0.9883 - val_loss: 1.0893 - val_accuracy: 0.6976 - lr: 2.0000e-04\n",
      "Epoch 15/40\n",
      "34/34 [==============================] - ETA: 0s - loss: 0.0345 - accuracy: 0.9883\n",
      "Epoch 15: val_accuracy did not improve from 0.71667\n",
      "34/34 [==============================] - 6s 186ms/step - loss: 0.0345 - accuracy: 0.9883 - val_loss: 1.1246 - val_accuracy: 0.6929 - lr: 4.0000e-05\n",
      "Epoch 16/40\n",
      "34/34 [==============================] - ETA: 0s - loss: 0.0303 - accuracy: 0.9897\n",
      "Epoch 16: val_accuracy did not improve from 0.71667\n",
      "34/34 [==============================] - 7s 190ms/step - loss: 0.0303 - accuracy: 0.9897 - val_loss: 1.1379 - val_accuracy: 0.6786 - lr: 4.0000e-05\n",
      "Epoch 17/40\n",
      "34/34 [==============================] - ETA: 0s - loss: 0.0302 - accuracy: 0.9916\n",
      "Epoch 17: val_accuracy did not improve from 0.71667\n",
      "34/34 [==============================] - 7s 190ms/step - loss: 0.0302 - accuracy: 0.9916 - val_loss: 1.1387 - val_accuracy: 0.6881 - lr: 4.0000e-05\n",
      "Epoch 18/40\n",
      "34/34 [==============================] - ETA: 0s - loss: 0.0295 - accuracy: 0.9897\n",
      "Epoch 18: ReduceLROnPlateau reducing learning rate to 8.000000525498762e-06.\n",
      "\n",
      "Epoch 18: val_accuracy did not improve from 0.71667\n",
      "34/34 [==============================] - 7s 195ms/step - loss: 0.0295 - accuracy: 0.9897 - val_loss: 1.1560 - val_accuracy: 0.6857 - lr: 4.0000e-05\n",
      "Epoch 19/40\n",
      "34/34 [==============================] - ETA: 0s - loss: 0.0269 - accuracy: 0.9930\n",
      "Epoch 19: val_accuracy did not improve from 0.71667\n",
      "34/34 [==============================] - 7s 194ms/step - loss: 0.0269 - accuracy: 0.9930 - val_loss: 1.1600 - val_accuracy: 0.6857 - lr: 8.0000e-06\n",
      "Epoch 20/40\n",
      "34/34 [==============================] - ETA: 0s - loss: 0.0311 - accuracy: 0.9907\n",
      "Epoch 20: val_accuracy did not improve from 0.71667\n",
      "34/34 [==============================] - 6s 189ms/step - loss: 0.0311 - accuracy: 0.9907 - val_loss: 1.1569 - val_accuracy: 0.6857 - lr: 8.0000e-06\n",
      "Epoch 21/40\n",
      "34/34 [==============================] - ETA: 0s - loss: 0.0287 - accuracy: 0.9902\n",
      "Epoch 21: val_accuracy did not improve from 0.71667\n",
      "34/34 [==============================] - 6s 189ms/step - loss: 0.0287 - accuracy: 0.9902 - val_loss: 1.1630 - val_accuracy: 0.6857 - lr: 8.0000e-06\n",
      "Epoch 22/40\n",
      "34/34 [==============================] - ETA: 0s - loss: 0.0288 - accuracy: 0.9916\n",
      "Epoch 22: ReduceLROnPlateau reducing learning rate to 1.6000001778593287e-06.\n",
      "\n",
      "Epoch 22: val_accuracy did not improve from 0.71667\n",
      "34/34 [==============================] - 6s 183ms/step - loss: 0.0288 - accuracy: 0.9916 - val_loss: 1.1687 - val_accuracy: 0.6857 - lr: 8.0000e-06\n",
      "Epoch 23/40\n",
      "34/34 [==============================] - ETA: 0s - loss: 0.0254 - accuracy: 0.9921\n",
      "Epoch 23: val_accuracy did not improve from 0.71667\n",
      "34/34 [==============================] - 7s 198ms/step - loss: 0.0254 - accuracy: 0.9921 - val_loss: 1.1699 - val_accuracy: 0.6857 - lr: 1.6000e-06\n",
      "Epoch 24/40\n",
      "34/34 [==============================] - ETA: 0s - loss: 0.0291 - accuracy: 0.9921\n",
      "Epoch 24: val_accuracy did not improve from 0.71667\n",
      "34/34 [==============================] - 7s 198ms/step - loss: 0.0291 - accuracy: 0.9921 - val_loss: 1.1701 - val_accuracy: 0.6857 - lr: 1.6000e-06\n",
      "Epoch 25/40\n",
      "34/34 [==============================] - ETA: 0s - loss: 0.0254 - accuracy: 0.9949\n",
      "Epoch 25: val_accuracy did not improve from 0.71667\n",
      "34/34 [==============================] - 7s 193ms/step - loss: 0.0254 - accuracy: 0.9949 - val_loss: 1.1713 - val_accuracy: 0.6857 - lr: 1.6000e-06\n",
      "Epoch 25: early stopping\n"
     ]
    }
   ],
   "source": [
    "hist_mobilenet=model_mobilenet.fit(\n",
    "      train_data,\n",
    "      epochs=40,\n",
    "      validation_data=valid_data,\n",
    "      callbacks=cb\n",
    "  )"
   ]
  },
  {
   "cell_type": "code",
   "execution_count": 9,
   "id": "7256a845",
   "metadata": {
    "execution": {
     "iopub.execute_input": "2024-09-04T18:37:51.705907Z",
     "iopub.status.busy": "2024-09-04T18:37:51.705273Z",
     "iopub.status.idle": "2024-09-04T18:37:51.711112Z",
     "shell.execute_reply": "2024-09-04T18:37:51.710255Z"
    },
    "papermill": {
     "duration": 0.253412,
     "end_time": "2024-09-04T18:37:51.713049",
     "exception": false,
     "start_time": "2024-09-04T18:37:51.459637",
     "status": "completed"
    },
    "tags": []
   },
   "outputs": [
    {
     "name": "stdout",
     "output_type": "stream",
     "text": [
      "Final Training Accuracy: 0.9949\n",
      "Final Validation Accuracy: 0.6857\n"
     ]
    }
   ],
   "source": [
    "train_accuracy = hist_mobilenet.history['accuracy']\n",
    "val_accuracy = hist_mobilenet.history['val_accuracy']\n",
    "\n",
    "final_train_accuracy = train_accuracy[-1]\n",
    "final_val_accuracy = val_accuracy[-1]\n",
    "\n",
    "print(f\"Final Training Accuracy: {final_train_accuracy:.4f}\")\n",
    "print(f\"Final Validation Accuracy: {final_val_accuracy:.4f}\")"
   ]
  },
  {
   "cell_type": "markdown",
   "id": "a80e0135",
   "metadata": {
    "papermill": {
     "duration": 0.239864,
     "end_time": "2024-09-04T18:37:52.193326",
     "exception": false,
     "start_time": "2024-09-04T18:37:51.953462",
     "status": "completed"
    },
    "tags": []
   },
   "source": [
    "# RestNet50v2"
   ]
  },
  {
   "cell_type": "code",
   "execution_count": 10,
   "id": "0cd31140",
   "metadata": {
    "execution": {
     "iopub.execute_input": "2024-09-04T18:37:52.674314Z",
     "iopub.status.busy": "2024-09-04T18:37:52.673361Z",
     "iopub.status.idle": "2024-09-04T18:39:27.097724Z",
     "shell.execute_reply": "2024-09-04T18:39:27.096924Z"
    },
    "papermill": {
     "duration": 94.664399,
     "end_time": "2024-09-04T18:39:27.099731",
     "exception": false,
     "start_time": "2024-09-04T18:37:52.435332",
     "status": "completed"
    },
    "tags": []
   },
   "outputs": [
    {
     "name": "stdout",
     "output_type": "stream",
     "text": [
      "Downloading data from https://storage.googleapis.com/tensorflow/keras-applications/resnet/resnet50v2_weights_tf_dim_ordering_tf_kernels_notop.h5\n",
      "94668760/94668760 [==============================] - 0s 0us/step\n",
      "Epoch 1/10\n",
      "34/34 [==============================] - ETA: 0s - loss: 0.2516 - accuracy: 0.8950"
     ]
    },
    {
     "name": "stderr",
     "output_type": "stream",
     "text": [
      "/opt/conda/lib/python3.10/site-packages/keras/src/engine/training.py:3103: UserWarning: You are saving your model as an HDF5 file via `model.save()`. This file format is considered legacy. We recommend using instead the native Keras format, e.g. `model.save('my_model.keras')`.\n",
      "  saving_api.save_model(\n"
     ]
    },
    {
     "name": "stdout",
     "output_type": "stream",
     "text": [
      "34/34 [==============================] - 24s 457ms/step - loss: 0.2516 - accuracy: 0.8950 - val_loss: 0.6200 - val_accuracy: 0.6381\n",
      "Epoch 2/10\n",
      "34/34 [==============================] - 8s 231ms/step - loss: 0.0625 - accuracy: 0.9818 - val_loss: 0.6076 - val_accuracy: 0.6952\n",
      "Epoch 3/10\n",
      "34/34 [==============================] - 7s 213ms/step - loss: 0.0417 - accuracy: 0.9855 - val_loss: 0.6095 - val_accuracy: 0.7262\n",
      "Epoch 4/10\n",
      "34/34 [==============================] - 7s 210ms/step - loss: 0.0309 - accuracy: 0.9911 - val_loss: 0.6849 - val_accuracy: 0.7071\n",
      "Epoch 5/10\n",
      "34/34 [==============================] - 7s 212ms/step - loss: 0.0142 - accuracy: 0.9963 - val_loss: 0.8424 - val_accuracy: 0.7333\n",
      "Epoch 6/10\n",
      "34/34 [==============================] - 7s 213ms/step - loss: 0.0102 - accuracy: 0.9981 - val_loss: 0.8766 - val_accuracy: 0.7595\n",
      "Epoch 7/10\n",
      "34/34 [==============================] - 7s 207ms/step - loss: 0.0117 - accuracy: 0.9972 - val_loss: 1.0318 - val_accuracy: 0.6786\n",
      "Epoch 8/10\n",
      "34/34 [==============================] - 7s 212ms/step - loss: 0.0088 - accuracy: 0.9972 - val_loss: 1.3658 - val_accuracy: 0.6286\n",
      "Epoch 9/10\n",
      "34/34 [==============================] - 7s 211ms/step - loss: 0.0025 - accuracy: 1.0000 - val_loss: 1.0942 - val_accuracy: 0.7048\n",
      "Epoch 10/10\n",
      "34/34 [==============================] - 7s 209ms/step - loss: 0.0074 - accuracy: 0.9977 - val_loss: 1.1500 - val_accuracy: 0.6952\n"
     ]
    }
   ],
   "source": [
    "# Load the ResNet50V2 model with pre-trained weights\n",
    "base_model = ResNet50V2(weights='imagenet', \n",
    "                        include_top=False, \n",
    "                        input_shape=(224, 224, 3))\n",
    "\n",
    "# Freeze the base model layers (optional, depending on whether you want to fine-tune)\n",
    "base_model.trainable = False\n",
    "\n",
    "# Build the model\n",
    "model_resnet = Sequential([\n",
    "    base_model,\n",
    "    GlobalAveragePooling2D(),\n",
    "    Dense(256, activation='relu'),\n",
    "    BatchNormalization(),\n",
    "    Dense(164, activation='relu'),\n",
    "    BatchNormalization(),\n",
    "    Dense(1, activation='sigmoid')  # Binary classification (monkeypox vs. non-monkeypox)\n",
    "])\n",
    "\n",
    "# Compile the model\n",
    "model_resnet.compile(optimizer='rmsprop',\n",
    "                     loss='binary_crossentropy', \n",
    "                     metrics=['accuracy'])\n",
    "\n",
    "\n",
    "cb_resnet = [EarlyStopping(patience=5,monitor='val_accuracy',mode='max',restore_best_weights=True),\n",
    "              ModelCheckpoint(\"ResNet50.h5\",save_best_only=True)]\n",
    "\n",
    "# Train the model\n",
    "hist_resnet = model_resnet.fit(\n",
    "    train_data,\n",
    "    validation_data=valid_data,\n",
    "    epochs=10,\n",
    "    callbacks=cb_resnet\n",
    ")"
   ]
  },
  {
   "cell_type": "code",
   "execution_count": 11,
   "id": "0f366d53",
   "metadata": {
    "execution": {
     "iopub.execute_input": "2024-09-04T18:39:27.674040Z",
     "iopub.status.busy": "2024-09-04T18:39:27.673661Z",
     "iopub.status.idle": "2024-09-04T18:39:27.679603Z",
     "shell.execute_reply": "2024-09-04T18:39:27.678644Z"
    },
    "papermill": {
     "duration": 0.273093,
     "end_time": "2024-09-04T18:39:27.681791",
     "exception": false,
     "start_time": "2024-09-04T18:39:27.408698",
     "status": "completed"
    },
    "tags": []
   },
   "outputs": [
    {
     "name": "stdout",
     "output_type": "stream",
     "text": [
      "Final Training Accuracy: 0.9977\n",
      "Final Validation Accuracy: 0.6952\n"
     ]
    }
   ],
   "source": [
    "# Print the training and validation accuracy\n",
    "train_accuracy = hist_resnet.history['accuracy']\n",
    "val_accuracy = hist_resnet.history['val_accuracy']\n",
    "\n",
    "# Print the final accuracy\n",
    "final_train_accuracy = train_accuracy[-1]\n",
    "final_val_accuracy = val_accuracy[-1]\n",
    "\n",
    "print(f\"Final Training Accuracy: {final_train_accuracy:.4f}\")\n",
    "print(f\"Final Validation Accuracy: {final_val_accuracy:.4f}\")"
   ]
  },
  {
   "cell_type": "markdown",
   "id": "9b267c7e",
   "metadata": {
    "papermill": {
     "duration": 0.265041,
     "end_time": "2024-09-04T18:39:28.211670",
     "exception": false,
     "start_time": "2024-09-04T18:39:27.946629",
     "status": "completed"
    },
    "tags": []
   },
   "source": [
    "# Xception"
   ]
  },
  {
   "cell_type": "code",
   "execution_count": 12,
   "id": "dfad505f",
   "metadata": {
    "execution": {
     "iopub.execute_input": "2024-09-04T18:39:28.745192Z",
     "iopub.status.busy": "2024-09-04T18:39:28.744521Z",
     "iopub.status.idle": "2024-09-04T18:39:31.370463Z",
     "shell.execute_reply": "2024-09-04T18:39:31.369479Z"
    },
    "papermill": {
     "duration": 2.893601,
     "end_time": "2024-09-04T18:39:31.372495",
     "exception": false,
     "start_time": "2024-09-04T18:39:28.478894",
     "status": "completed"
    },
    "tags": []
   },
   "outputs": [
    {
     "name": "stdout",
     "output_type": "stream",
     "text": [
      "Downloading data from https://storage.googleapis.com/tensorflow/keras-applications/xception/xception_weights_tf_dim_ordering_tf_kernels_notop.h5\n",
      "83683744/83683744 [==============================] - 0s 0us/step\n",
      "Model: \"sequential_2\"\n",
      "_________________________________________________________________\n",
      " Layer (type)                Output Shape              Param #   \n",
      "=================================================================\n",
      " xception (Functional)       (None, 7, 7, 2048)        20861480  \n",
      "                                                                 \n",
      " global_average_pooling2d_2  (None, 2048)              0         \n",
      "  (GlobalAveragePooling2D)                                       \n",
      "                                                                 \n",
      " dense_6 (Dense)             (None, 1024)              2098176   \n",
      "                                                                 \n",
      " batch_normalization_6 (Bat  (None, 1024)              4096      \n",
      " chNormalization)                                                \n",
      "                                                                 \n",
      " dense_7 (Dense)             (None, 1)                 1025      \n",
      "                                                                 \n",
      "=================================================================\n",
      "Total params: 22964777 (87.60 MB)\n",
      "Trainable params: 2101249 (8.02 MB)\n",
      "Non-trainable params: 20863528 (79.59 MB)\n",
      "_________________________________________________________________\n"
     ]
    }
   ],
   "source": [
    "base_model_xception=Xception(include_top=False,\n",
    "                            input_shape=(224,224,3))\n",
    "\n",
    "base_model_xception.trainable=False \n",
    "\n",
    "model_xception=Sequential([base_model_xception,\n",
    "                          GlobalAveragePooling2D(),\n",
    "                          Dense(1024,activation='relu'),\n",
    "                          BatchNormalization(),\n",
    "                          Dense(1,activation='sigmoid')])\n",
    "model_xception.summary()"
   ]
  },
  {
   "cell_type": "code",
   "execution_count": 13,
   "id": "0d8a6158",
   "metadata": {
    "execution": {
     "iopub.execute_input": "2024-09-04T18:39:31.946436Z",
     "iopub.status.busy": "2024-09-04T18:39:31.946034Z",
     "iopub.status.idle": "2024-09-04T18:39:31.961871Z",
     "shell.execute_reply": "2024-09-04T18:39:31.961144Z"
    },
    "papermill": {
     "duration": 0.320554,
     "end_time": "2024-09-04T18:39:31.963874",
     "exception": false,
     "start_time": "2024-09-04T18:39:31.643320",
     "status": "completed"
    },
    "tags": []
   },
   "outputs": [],
   "source": [
    "model_xception.compile(loss = 'binary_crossentropy', optimizer ='sgd', metrics= ['accuracy'])\n",
    "     "
   ]
  },
  {
   "cell_type": "code",
   "execution_count": 14,
   "id": "31473c6d",
   "metadata": {
    "execution": {
     "iopub.execute_input": "2024-09-04T18:39:32.501670Z",
     "iopub.status.busy": "2024-09-04T18:39:32.501290Z",
     "iopub.status.idle": "2024-09-04T18:42:56.759701Z",
     "shell.execute_reply": "2024-09-04T18:42:56.758649Z"
    },
    "papermill": {
     "duration": 204.527516,
     "end_time": "2024-09-04T18:42:56.761823",
     "exception": false,
     "start_time": "2024-09-04T18:39:32.234307",
     "status": "completed"
    },
    "tags": []
   },
   "outputs": [
    {
     "name": "stdout",
     "output_type": "stream",
     "text": [
      "Epoch 1/20\n",
      "34/34 [==============================] - ETA: 0s - loss: 0.4667 - accuracy: 0.7941\n",
      "Epoch 1: val_accuracy did not improve from 0.71667\n",
      "34/34 [==============================] - 29s 582ms/step - loss: 0.4667 - accuracy: 0.7941 - val_loss: 0.6757 - val_accuracy: 0.5929 - lr: 0.0100\n",
      "Epoch 2/20\n",
      "34/34 [==============================] - ETA: 0s - loss: 0.2284 - accuracy: 0.9286\n",
      "Epoch 2: val_accuracy did not improve from 0.71667\n",
      "34/34 [==============================] - 11s 329ms/step - loss: 0.2284 - accuracy: 0.9286 - val_loss: 0.6634 - val_accuracy: 0.6238 - lr: 0.0100\n",
      "Epoch 3/20\n",
      "34/34 [==============================] - ETA: 0s - loss: 0.1709 - accuracy: 0.9514\n",
      "Epoch 3: val_accuracy did not improve from 0.71667\n",
      "34/34 [==============================] - 11s 323ms/step - loss: 0.1709 - accuracy: 0.9514 - val_loss: 0.6639 - val_accuracy: 0.6000 - lr: 0.0100\n",
      "Epoch 4/20\n",
      "34/34 [==============================] - ETA: 0s - loss: 0.1357 - accuracy: 0.9636\n",
      "Epoch 4: val_accuracy did not improve from 0.71667\n",
      "34/34 [==============================] - 11s 318ms/step - loss: 0.1357 - accuracy: 0.9636 - val_loss: 0.6727 - val_accuracy: 0.6190 - lr: 0.0100\n",
      "Epoch 5/20\n",
      "34/34 [==============================] - ETA: 0s - loss: 0.1136 - accuracy: 0.9753\n",
      "Epoch 5: val_accuracy did not improve from 0.71667\n",
      "34/34 [==============================] - 11s 316ms/step - loss: 0.1136 - accuracy: 0.9753 - val_loss: 0.6775 - val_accuracy: 0.5952 - lr: 0.0100\n",
      "Epoch 6/20\n",
      "34/34 [==============================] - ETA: 0s - loss: 0.0990 - accuracy: 0.9790\n",
      "Epoch 6: ReduceLROnPlateau reducing learning rate to 0.0019999999552965165.\n",
      "\n",
      "Epoch 6: val_accuracy did not improve from 0.71667\n",
      "34/34 [==============================] - 11s 315ms/step - loss: 0.0990 - accuracy: 0.9790 - val_loss: 0.6998 - val_accuracy: 0.6048 - lr: 0.0100\n",
      "Epoch 7/20\n",
      "34/34 [==============================] - ETA: 0s - loss: 0.0853 - accuracy: 0.9851\n",
      "Epoch 7: val_accuracy did not improve from 0.71667\n",
      "34/34 [==============================] - 11s 315ms/step - loss: 0.0853 - accuracy: 0.9851 - val_loss: 0.7242 - val_accuracy: 0.6000 - lr: 0.0020\n",
      "Epoch 8/20\n",
      "34/34 [==============================] - ETA: 0s - loss: 0.0885 - accuracy: 0.9823\n",
      "Epoch 8: val_accuracy did not improve from 0.71667\n",
      "34/34 [==============================] - 11s 317ms/step - loss: 0.0885 - accuracy: 0.9823 - val_loss: 0.7550 - val_accuracy: 0.6024 - lr: 0.0020\n",
      "Epoch 9/20\n",
      "34/34 [==============================] - ETA: 0s - loss: 0.0796 - accuracy: 0.9888\n",
      "Epoch 9: val_accuracy did not improve from 0.71667\n",
      "34/34 [==============================] - 11s 319ms/step - loss: 0.0796 - accuracy: 0.9888 - val_loss: 0.7892 - val_accuracy: 0.6000 - lr: 0.0020\n",
      "Epoch 10/20\n",
      "34/34 [==============================] - ETA: 0s - loss: 0.0803 - accuracy: 0.9860\n",
      "Epoch 10: ReduceLROnPlateau reducing learning rate to 0.0003999999724328518.\n",
      "\n",
      "Epoch 10: val_accuracy did not improve from 0.71667\n",
      "34/34 [==============================] - 11s 321ms/step - loss: 0.0803 - accuracy: 0.9860 - val_loss: 0.8242 - val_accuracy: 0.5881 - lr: 0.0020\n",
      "Epoch 11/20\n",
      "34/34 [==============================] - ETA: 0s - loss: 0.0763 - accuracy: 0.9902\n",
      "Epoch 11: val_accuracy did not improve from 0.71667\n",
      "34/34 [==============================] - 11s 320ms/step - loss: 0.0763 - accuracy: 0.9902 - val_loss: 0.8594 - val_accuracy: 0.5857 - lr: 4.0000e-04\n",
      "Epoch 12/20\n",
      "34/34 [==============================] - ETA: 0s - loss: 0.0779 - accuracy: 0.9851\n",
      "Epoch 12: val_accuracy did not improve from 0.71667\n",
      "34/34 [==============================] - 11s 319ms/step - loss: 0.0779 - accuracy: 0.9851 - val_loss: 0.8942 - val_accuracy: 0.5881 - lr: 4.0000e-04\n",
      "Epoch 13/20\n",
      "34/34 [==============================] - ETA: 0s - loss: 0.0748 - accuracy: 0.9911\n",
      "Epoch 13: val_accuracy did not improve from 0.71667\n",
      "34/34 [==============================] - 11s 317ms/step - loss: 0.0748 - accuracy: 0.9911 - val_loss: 0.9269 - val_accuracy: 0.5857 - lr: 4.0000e-04\n",
      "Epoch 14/20\n",
      "34/34 [==============================] - ETA: 0s - loss: 0.0732 - accuracy: 0.9879\n",
      "Epoch 14: ReduceLROnPlateau reducing learning rate to 7.999999215826393e-05.\n",
      "\n",
      "Epoch 14: val_accuracy did not improve from 0.71667\n",
      "34/34 [==============================] - 11s 318ms/step - loss: 0.0732 - accuracy: 0.9879 - val_loss: 0.9572 - val_accuracy: 0.5857 - lr: 4.0000e-04\n",
      "Epoch 15/20\n",
      "34/34 [==============================] - ETA: 0s - loss: 0.0727 - accuracy: 0.9911\n",
      "Epoch 15: val_accuracy did not improve from 0.71667\n",
      "34/34 [==============================] - 11s 318ms/step - loss: 0.0727 - accuracy: 0.9911 - val_loss: 0.9825 - val_accuracy: 0.5905 - lr: 8.0000e-05\n",
      "Epoch 16/20\n",
      "34/34 [==============================] - ETA: 0s - loss: 0.0759 - accuracy: 0.9851\n",
      "Epoch 16: val_accuracy did not improve from 0.71667\n",
      "34/34 [==============================] - 11s 318ms/step - loss: 0.0759 - accuracy: 0.9851 - val_loss: 1.0036 - val_accuracy: 0.5952 - lr: 8.0000e-05\n",
      "Epoch 17/20\n",
      "34/34 [==============================] - ETA: 0s - loss: 0.0746 - accuracy: 0.9879\n",
      "Epoch 17: val_accuracy did not improve from 0.71667\n",
      "34/34 [==============================] - 11s 318ms/step - loss: 0.0746 - accuracy: 0.9879 - val_loss: 1.0208 - val_accuracy: 0.5929 - lr: 8.0000e-05\n",
      "Epoch 17: early stopping\n"
     ]
    }
   ],
   "source": [
    "hist_xception=model_xception.fit(train_data, epochs = 20 , validation_data = valid_data,  callbacks=cb)\n",
    "     "
   ]
  },
  {
   "cell_type": "code",
   "execution_count": 15,
   "id": "962a1348",
   "metadata": {
    "execution": {
     "iopub.execute_input": "2024-09-04T18:42:57.400718Z",
     "iopub.status.busy": "2024-09-04T18:42:57.399906Z",
     "iopub.status.idle": "2024-09-04T18:42:57.405768Z",
     "shell.execute_reply": "2024-09-04T18:42:57.404815Z"
    },
    "papermill": {
     "duration": 0.325228,
     "end_time": "2024-09-04T18:42:57.408162",
     "exception": false,
     "start_time": "2024-09-04T18:42:57.082934",
     "status": "completed"
    },
    "tags": []
   },
   "outputs": [
    {
     "name": "stdout",
     "output_type": "stream",
     "text": [
      "Final Training Accuracy: 0.9879\n",
      "Final Validation Accuracy: 0.5929\n"
     ]
    }
   ],
   "source": [
    "train_accuracy = hist_xception.history['accuracy']\n",
    "val_accuracy = hist_xception.history['val_accuracy']\n",
    "\n",
    "final_train_accuracy = train_accuracy[-1]\n",
    "final_val_accuracy = val_accuracy[-1]\n",
    "\n",
    "print(f\"Final Training Accuracy: {final_train_accuracy:.4f}\")\n",
    "print(f\"Final Validation Accuracy: {final_val_accuracy:.4f}\")"
   ]
  }
 ],
 "metadata": {
  "kaggle": {
   "accelerator": "nvidiaTeslaT4",
   "dataSources": [
    {
     "datasetId": 2308447,
     "sourceId": 3907076,
     "sourceType": "datasetVersion"
    }
   ],
   "dockerImageVersionId": 30762,
   "isGpuEnabled": true,
   "isInternetEnabled": true,
   "language": "python",
   "sourceType": "notebook"
  },
  "kernelspec": {
   "display_name": "Python 3",
   "language": "python",
   "name": "python3"
  },
  "language_info": {
   "codemirror_mode": {
    "name": "ipython",
    "version": 3
   },
   "file_extension": ".py",
   "mimetype": "text/x-python",
   "name": "python",
   "nbconvert_exporter": "python",
   "pygments_lexer": "ipython3",
   "version": "3.10.14"
  },
  "papermill": {
   "default_parameters": {},
   "duration": 693.139656,
   "end_time": "2024-09-04T18:43:00.611070",
   "environment_variables": {},
   "exception": null,
   "input_path": "__notebook__.ipynb",
   "output_path": "__notebook__.ipynb",
   "parameters": {},
   "start_time": "2024-09-04T18:31:27.471414",
   "version": "2.6.0"
  }
 },
 "nbformat": 4,
 "nbformat_minor": 5
}
